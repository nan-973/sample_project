{
  "cells": [
    {
      "cell_type": "markdown",
      "metadata": {
        "id": "view-in-github",
        "colab_type": "text"
      },
      "source": [
        "<a href=\"https://colab.research.google.com/github/nan-973/sample_project/blob/main/Python_Case_Study_DSA_B6.ipynb\" target=\"_parent\"><img src=\"https://colab.research.google.com/assets/colab-badge.svg\" alt=\"Open In Colab\"/></a>"
      ]
    },
    {
      "cell_type": "markdown",
      "metadata": {
        "id": "zVV_KMSIUG-A"
      },
      "source": [
        "# Answer the following questions using only builtin Python datatypes and functions. Do not use Numpy or Scipy (i.e. No library imports allowed)"
      ]
    },
    {
      "cell_type": "markdown",
      "metadata": {
        "id": "uZnK7VgWV5SI"
      },
      "source": [
        "# Q1. Write a function that return the range (maximum and minimun) of a given list of numbers"
      ]
    },
    {
      "cell_type": "code",
      "execution_count": 1,
      "metadata": {
        "id": "vuAbJQcOWAM7",
        "colab": {
          "base_uri": "https://localhost:8080/"
        },
        "outputId": "fedc095e-a097-4201-cd8d-3b084a482613"
      },
      "outputs": [
        {
          "output_type": "stream",
          "name": "stdout",
          "text": [
            "Maximum element in list 5\n",
            "Minimum element in list 1\n",
            "Range of the list is ( 1 , 5 )\n"
          ]
        }
      ],
      "source": [
        "def range_list(my_list):\n",
        "    return max(my_list), min(my_list)\n",
        "\n",
        "maximum, minimum=range_list([1,2,3,4,5])\n",
        "\n",
        "print(\"Maximum element in list\", maximum)\n",
        "print(\"Minimum element in list\", minimum)\n",
        "print(\"Range of the list is (\",minimum,\",\",maximum,\")\")\n",
        "\n"
      ]
    },
    {
      "cell_type": "markdown",
      "metadata": {
        "id": "Y5_v5a8_U1O-"
      },
      "source": [
        "## Q2. Write function that returns mean value of a list of numbers"
      ]
    },
    {
      "cell_type": "code",
      "execution_count": 2,
      "metadata": {
        "id": "RajjEyacU7Sc",
        "colab": {
          "base_uri": "https://localhost:8080/"
        },
        "outputId": "2af4e8cf-6f73-4209-be8d-042bec7abfb3"
      },
      "outputs": [
        {
          "output_type": "stream",
          "name": "stdout",
          "text": [
            "Mean = 5.333333333333333\n"
          ]
        }
      ],
      "source": [
        "def mean_list(my_list1=[1,6,7,9,5,4]):\n",
        " return sum(my_list1)/len(my_list1)\n",
        "\n",
        "mean = mean_list()\n",
        "print(\"Mean =\", mean)"
      ]
    },
    {
      "cell_type": "markdown",
      "metadata": {
        "id": "OpeRxoEoVTIP"
      },
      "source": [
        "# Q3. Write a function that returns the median value of a list of numbers"
      ]
    },
    {
      "cell_type": "code",
      "execution_count": 3,
      "metadata": {
        "id": "u1CUy0UOVaQi",
        "colab": {
          "base_uri": "https://localhost:8080/"
        },
        "outputId": "a2aa19e6-4907-4f2d-ab0f-a5e4703c8081"
      },
      "outputs": [
        {
          "output_type": "stream",
          "name": "stdout",
          "text": [
            "Median is  5\n"
          ]
        }
      ],
      "source": [
        "def median_list(my_list2=[7,2,8,5,3]):\n",
        "  sorted_list = sorted(my_list2)\n",
        "  N=len(my_list2)\n",
        "  if N%2!=0:\n",
        "    med = int((N+1)/2)\n",
        "    return sorted_list[med-1]\n",
        "  else:\n",
        "    n = sorted_list[int((N/2)-1)]\n",
        "    m = sorted_list[int(((N/2)+1)-1)]\n",
        "    med = (n+m)/2\n",
        "    return med\n",
        "\n",
        "result = median_list()\n",
        "print(\"Median is \",result)\n"
      ]
    },
    {
      "cell_type": "markdown",
      "metadata": {
        "id": "2EMOG7AZSqVn"
      },
      "source": [
        "## Q4. Write a function to return the mod of a list of numbers, if no mod exists, it should return None. If more than one mod exist, return the mod values as list"
      ]
    },
    {
      "cell_type": "code",
      "execution_count": 4,
      "metadata": {
        "id": "qnMm2dhhSk3-",
        "colab": {
          "base_uri": "https://localhost:8080/"
        },
        "outputId": "57408de1-939c-4b77-be61-9005f1200f4f"
      },
      "outputs": [
        {
          "output_type": "stream",
          "name": "stdout",
          "text": [
            "Mode =  [2, 8]\n"
          ]
        }
      ],
      "source": [
        "def find_mode(my_list3=[1,2,2,8,8,4]):\n",
        "    mode_list = []\n",
        "    max_count = 0\n",
        "\n",
        "    for n in my_list3:\n",
        "        count = 0\n",
        "        for i in my_list3:\n",
        "            if i == n:\n",
        "                count += 1\n",
        "\n",
        "        if count > max_count:\n",
        "            max_count = count\n",
        "            mode_list = [n]\n",
        "        elif count == max_count and n not in mode_list:\n",
        "            mode_list.append(n)\n",
        "\n",
        "    if max_count == 1:\n",
        "        return None\n",
        "    if len(mode_list) == 1:\n",
        "        return mode_list[0]\n",
        "    else:\n",
        "      return mode_list\n",
        "\n",
        "\n",
        "result = find_mode()\n",
        "print(\"Mode = \",result)\n"
      ]
    },
    {
      "cell_type": "markdown",
      "metadata": {
        "id": "LcqWwqtgTCiL"
      },
      "source": [
        "## Q5. Write function to compute a given percentile value (e.g. 90th percentile) of a list of numbers"
      ]
    },
    {
      "cell_type": "code",
      "execution_count": 5,
      "metadata": {
        "id": "Sn307h0TTb2b",
        "colab": {
          "base_uri": "https://localhost:8080/"
        },
        "outputId": "dadd2c1c-28ba-4015-d9a0-f0560c621a98"
      },
      "outputs": [
        {
          "output_type": "stream",
          "name": "stdout",
          "text": [
            "Percentile value =  6.0\n"
          ]
        }
      ],
      "source": [
        "def percentile_list(my_list4=[1,2,3,4,5,6]):\n",
        "  sorted_list=sorted(my_list4)\n",
        "  N=len(my_list4)\n",
        "  p=((90/100)*(N+1))\n",
        "  p1=str(p)\n",
        "  for i in p1:\n",
        "    if i==\".\":\n",
        "      k=p1.find(\".\")\n",
        "      whole_part=p1[:k]\n",
        "      dec_part=p1[k:]\n",
        "\n",
        "  whole_part1=int(whole_part)\n",
        "  dec_part1=float(dec_part)\n",
        "  q=sorted_list[whole_part1-1]\n",
        "  r=sorted_list[whole_part1-1]\n",
        "  per=q+dec_part1*(r-q)\n",
        "  return per\n",
        "\n",
        "\n",
        "result = percentile_list()\n",
        "print(\"Percentile value = \",result)"
      ]
    },
    {
      "cell_type": "markdown",
      "metadata": {
        "id": "N-TYHkDcWOfS"
      },
      "source": [
        "# Q6. Write a function that returns the lower bound of a list of numbers"
      ]
    },
    {
      "cell_type": "code",
      "execution_count": 6,
      "metadata": {
        "id": "Y-RKPdKuW5nx",
        "colab": {
          "base_uri": "https://localhost:8080/"
        },
        "outputId": "854bf681-fc87-421c-bfb1-78a369d46b42"
      },
      "outputs": [
        {
          "output_type": "stream",
          "name": "stdout",
          "text": [
            "Lower Bound =  -44.75\n"
          ]
        }
      ],
      "source": [
        "def lower_bound(my_list5=[7,11,23,42,-3,-21,26,30]):\n",
        "  sorted_list5=sorted(my_list5)\n",
        "  N=len(my_list5)\n",
        "  p=((25/100)*(N+1))\n",
        "  p1=str(p)\n",
        "  for i in p1:\n",
        "    if i==\".\":\n",
        "      k=p1.find(\".\")\n",
        "      whole_part=p1[:k]\n",
        "      dec_part=p1[k:]\n",
        "  whole_part1=int(whole_part)\n",
        "  dec_part1=float(dec_part)\n",
        "  q=sorted_list5[whole_part1-1]\n",
        "  r=sorted_list5[whole_part1]\n",
        "  Q1=q+dec_part1*(r-q)\n",
        "\n",
        "  j=((75/100)*(N+1))\n",
        "  j1=str(j)\n",
        "  for i in j1:\n",
        "    if i==\".\":\n",
        "      k=j1.find(\".\")\n",
        "      whole_part_=j1[:k]\n",
        "      dec_part_=j1[k:]\n",
        "  whole_part2=int(whole_part_)\n",
        "  dec_part2=float(dec_part_)\n",
        "  w=sorted_list5[whole_part2-1]\n",
        "  x=sorted_list5[whole_part2]\n",
        "  Q3=w+dec_part2*(x-w)\n",
        "\n",
        "  IQR=Q3-Q1\n",
        "  lower_bound=Q1-1.5*IQR\n",
        "  return lower_bound\n",
        "\n",
        "result = lower_bound()\n",
        "print(\"Lower Bound = \",result)\n",
        "\n"
      ]
    },
    {
      "cell_type": "markdown",
      "metadata": {
        "id": "5aHfaI_jThpX"
      },
      "source": [
        "## Q7. Write function to return any outliers from a given list of numbers, if no outliers present it should return None"
      ]
    },
    {
      "cell_type": "code",
      "execution_count": 7,
      "metadata": {
        "id": "gG6-qzT7T0Si",
        "colab": {
          "base_uri": "https://localhost:8080/"
        },
        "outputId": "c7ab2444-f0e4-41f6-9d9e-e94cd8415238"
      },
      "outputs": [
        {
          "output_type": "stream",
          "name": "stdout",
          "text": [
            "None\n"
          ]
        }
      ],
      "source": [
        "def outliers_list(my_list6=[7,11,23,42,-3,-21,26,30]):\n",
        "  sorted_list6=sorted(my_list6)\n",
        "  N=len(my_list6)\n",
        "  p=((25/100)*(N+1))\n",
        "  p1=str(p)\n",
        "  for i in p1:\n",
        "    if i==\".\":\n",
        "      k=p1.find(\".\")\n",
        "      whole_part=p1[:k]\n",
        "      dec_part=p1[k:]\n",
        "  whole_part1=int(whole_part)\n",
        "  dec_part1=float(dec_part)\n",
        "  q=sorted_list6[whole_part1-1]\n",
        "  r=sorted_list6[whole_part1]\n",
        "  Q1=q+dec_part1*(r-q)\n",
        "\n",
        "  j=((75/100)*(N+1))\n",
        "  j1=str(j)\n",
        "  for i in j1:\n",
        "    if i==\".\":\n",
        "      k=j1.find(\".\")\n",
        "      whole_part_=j1[:k]\n",
        "      dec_part_=j1[k:]\n",
        "  whole_part2=int(whole_part_)\n",
        "  dec_part2=float(dec_part_)\n",
        "  w=sorted_list6[whole_part2-1]\n",
        "  x=sorted_list6[whole_part2]\n",
        "  Q3=w+dec_part2*(x-w)\n",
        "\n",
        "  IQR=Q3-Q1\n",
        "  lower_bound=Q1-1.5*IQR\n",
        "  upper_bound=Q3+1.5*IQR\n",
        "  for i in sorted_list6:\n",
        "    if i < lower_bound or i > upper_bound:\n",
        "      return i\n",
        "    else:\n",
        "      return None\n",
        "    break\n",
        "\n",
        "\n",
        "result = outliers_list()\n",
        "print(result)\n"
      ]
    },
    {
      "cell_type": "markdown",
      "metadata": {
        "id": "jI9t-tcDT5EK"
      },
      "source": [
        "## Q8. Write a function to return standard deviation of a list of numbers"
      ]
    },
    {
      "cell_type": "code",
      "execution_count": 8,
      "metadata": {
        "id": "MMU_cMlLUFxJ",
        "colab": {
          "base_uri": "https://localhost:8080/"
        },
        "outputId": "ce9ce08b-a583-4f3c-e9a2-f7931f3c8676"
      },
      "outputs": [
        {
          "output_type": "stream",
          "name": "stdout",
          "text": [
            "Standard Deviation of the list is 2.748737083745107\n"
          ]
        }
      ],
      "source": [
        "import math\n",
        "def std_d(my_list7=[10,8,2,3,5,6]):\n",
        "  N = len(my_list7)\n",
        "  total = sum(my_list7)\n",
        "  mean = total/N\n",
        "  s=0\n",
        "  for i in my_list7:\n",
        "    s=s+(i-mean)**2\n",
        "\n",
        "  variance=s/N\n",
        "  std_dev=math.sqrt(variance)\n",
        "  return std_dev\n",
        "\n",
        "result = std_d()\n",
        "print(\"Standard Deviation of the list is\",result)\n"
      ]
    },
    {
      "cell_type": "markdown",
      "metadata": {
        "id": "LufmQDJPURkM"
      },
      "source": [
        "## Q9. Write function to compute and return Z-score values of a list of numbers"
      ]
    },
    {
      "cell_type": "code",
      "execution_count": 9,
      "metadata": {
        "id": "ml2qpSpFUYxV",
        "colab": {
          "base_uri": "https://localhost:8080/"
        },
        "outputId": "09f59b9a-b382-45f5-fd9f-f5f4db3a18f4"
      },
      "outputs": [
        {
          "output_type": "execute_result",
          "data": {
            "text/plain": [
              "[1.5764815627361641,\n",
              " 0.8488746876271653,\n",
              " -1.3339459376998315,\n",
              " -0.970142500145332,\n",
              " -0.24253562503633308,\n",
              " 0.12126781251816637]"
            ]
          },
          "metadata": {},
          "execution_count": 9
        }
      ],
      "source": [
        "import math\n",
        "def z_score(my_list8=[10,8,2,3,5,6]):\n",
        "  N = len(my_list8)\n",
        "  total = sum(my_list8)\n",
        "  mean = total/N\n",
        "  s=0\n",
        "  for i in my_list8:\n",
        "    s=s+(i-mean)**2\n",
        "  variance=s/N\n",
        "  std_dev=math.sqrt(variance)\n",
        "  z_scores=[]\n",
        "  for j in my_list8:\n",
        "    z = (j-mean)/(std_dev)\n",
        "    z_scores.append(z)\n",
        "\n",
        "  return z_scores\n",
        "\n",
        "z_score()\n"
      ]
    },
    {
      "cell_type": "markdown",
      "metadata": {
        "id": "YQSNHIfxUb6s"
      },
      "source": [
        "## Q10. Write a function to compute and return the Pearson correlation coefficient value of two list of numbers"
      ]
    },
    {
      "cell_type": "code",
      "execution_count": 10,
      "metadata": {
        "colab": {
          "base_uri": "https://localhost:8080/"
        },
        "id": "1yb5iBjq_Vv0",
        "outputId": "b4cf00a4-31e9-4195-d31f-c5dd8c5e155a"
      },
      "outputs": [
        {
          "output_type": "stream",
          "name": "stdout",
          "text": [
            "Pearson Correlation Coefficient =  0.9999999999999998\n"
          ]
        }
      ],
      "source": [
        "import math\n",
        "\n",
        "def pearson_correlation(my_list_x =[1,2,3,4,5], my_list_y=[2,4,6,8,10]):\n",
        "    if len(my_list_x) != len(my_list_y):\n",
        "        return \"Error: Lists must be of the same length\"\n",
        "\n",
        "    N = len(my_list_x)\n",
        "\n",
        "    mean_x = sum(my_list_x) / N\n",
        "    mean_y = sum(my_list_y) / N\n",
        "\n",
        "    num = 0\n",
        "    sum_sq_x = 0\n",
        "    sum_sq_y = 0\n",
        "\n",
        "    for i in range(N):\n",
        "        diff_x = my_list_x[i] - mean_x\n",
        "        diff_y = my_list_y[i] - mean_y\n",
        "\n",
        "        num += diff_x * diff_y\n",
        "        sum_sq_x += diff_x ** 2\n",
        "        sum_sq_y += diff_y ** 2\n",
        "\n",
        "    denom = math.sqrt(sum_sq_x) * math.sqrt(sum_sq_y)\n",
        "\n",
        "    if denom == 0:\n",
        "        return \"Division by zero not possible\"\n",
        "\n",
        "    r = num / denom\n",
        "    return r\n",
        "\n",
        "result = pearson_correlation()\n",
        "print(\"Pearson Correlation Coefficient = \",result)"
      ]
    }
  ],
  "metadata": {
    "colab": {
      "provenance": [],
      "include_colab_link": true
    },
    "kernelspec": {
      "display_name": "Python 3",
      "name": "python3"
    },
    "language_info": {
      "codemirror_mode": {
        "name": "ipython",
        "version": 3
      },
      "file_extension": ".py",
      "mimetype": "text/x-python",
      "name": "python",
      "nbconvert_exporter": "python",
      "pygments_lexer": "ipython3",
      "version": "3.13.3"
    }
  },
  "nbformat": 4,
  "nbformat_minor": 0
}